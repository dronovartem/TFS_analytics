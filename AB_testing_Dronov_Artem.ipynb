{
  "nbformat": 4,
  "nbformat_minor": 0,
  "metadata": {
    "colab": {
      "name": "Untitled",
      "provenance": [],
      "collapsed_sections": []
    },
    "kernelspec": {
      "name": "python3",
      "display_name": "Python 3"
    }
  },
  "cells": [
    {
      "cell_type": "markdown",
      "metadata": {
        "id": "-2imJnb_wTOh",
        "colab_type": "text"
      },
      "source": [
        "# Проведение A/B-тестирование на основе данных\n"
      ]
    },
    {
      "cell_type": "markdown",
      "metadata": {
        "id": "Wn4ZjcGzwPb6",
        "colab_type": "text"
      },
      "source": [
        "В рамках данной презентации рассмотрены конверсии, а также оцениваются статистические значимости их различия для двух целевых групп - контрольной и оцениваемой (новой), указанных в поле variation."
      ]
    },
    {
      "cell_type": "markdown",
      "metadata": {
        "id": "kzMxheptxAYk",
        "colab_type": "text"
      },
      "source": [
        "Сначала подключим ключевые библиотеки для работы."
      ]
    },
    {
      "cell_type": "code",
      "metadata": {
        "id": "a861uEk5XOuw",
        "colab_type": "code",
        "outputId": "6ef6d6e7-2ecc-49f1-d15c-7658d5ab5ca7",
        "colab": {
          "base_uri": "https://localhost:8080/",
          "height": 71
        }
      },
      "source": [
        "#!pip install psycopg2-binary\n",
        "import psycopg2;  #for working with Postgre\n",
        "import pandas as pd\n",
        "import numpy as np\n",
        "from scipy.stats import norm\n",
        "from scipy.stats import ttest_ind_from_stats as ttest"
      ],
      "execution_count": 1,
      "outputs": [
        {
          "output_type": "stream",
          "text": [
            "/usr/local/lib/python3.6/dist-packages/psycopg2/__init__.py:144: UserWarning: The psycopg2 wheel package will be renamed from release 2.8; in order to keep installing from binary please use \"pip install psycopg2-binary\" instead. For details see: <http://initd.org/psycopg/docs/install.html#binary-install-from-pypi>.\n",
            "  \"\"\")\n"
          ],
          "name": "stderr"
        }
      ]
    },
    {
      "cell_type": "markdown",
      "metadata": {
        "id": "3W474zS2xccl",
        "colab_type": "text"
      },
      "source": [
        "Создадим подключение к имеющейся БД."
      ]
    },
    {
      "cell_type": "code",
      "metadata": {
        "id": "Sweq89T5XmDm",
        "colab_type": "code",
        "colab": {}
      },
      "source": [
        "conn = psycopg2.connect(dbname='db_market', user='market_user', \n",
        "                        password='yiVuQH6LfI1ViMVCTcqi', host='40.85.140.102')"
      ],
      "execution_count": 0,
      "outputs": []
    },
    {
      "cell_type": "markdown",
      "metadata": {
        "id": "B2GNJzQmxfva",
        "colab_type": "text"
      },
      "source": [
        "Напишем функцию для обработки запросов системой Postgre."
      ]
    },
    {
      "cell_type": "code",
      "metadata": {
        "id": "zjn-YeXZfXu0",
        "colab_type": "code",
        "colab": {}
      },
      "source": [
        "def perform_query(connection, query):\n",
        "  '''\n",
        "  connection - psycopg2.connect to neccesary DB\n",
        "  query - SQL-like query\n",
        "\n",
        "  return: query's answer as DataFrame\n",
        "  '''\n",
        "  with conn:\n",
        "    return pd.read_sql_query(query, conn) "
      ],
      "execution_count": 0,
      "outputs": []
    },
    {
      "cell_type": "markdown",
      "metadata": {
        "id": "or0NG2SD0Kps",
        "colab_type": "text"
      },
      "source": [
        "Для проведения сегментации, целесообразно также реализовать функцию, конструирующую запрос. В качестве исходного запроса будем использовать:"
      ]
    },
    {
      "cell_type": "code",
      "metadata": {
        "id": "95Ru2E020LED",
        "colab_type": "code",
        "colab": {}
      },
      "source": [
        "core_query ='SELECT sum(loads) as sessions, sum(s1) as short, sum(s2) as entire \\\n",
        "              FROM \\\n",
        "              ( \\\n",
        "              SELECT variation, max(loads) as loads, max(submit_short) as s1, max(submit) as s2 \\\n",
        "              FROM abtest \\\n",
        "              {} \\\n",
        "              GROUP BY  session_id, variation \\\n",
        "              ) \\\n",
        "              AS sessions_data \\\n",
        "              GROUP BY variation \\\n",
        "              HAVING max(loads) > 0'"
      ],
      "execution_count": 0,
      "outputs": []
    },
    {
      "cell_type": "markdown",
      "metadata": {
        "id": "iYhjOujb0M96",
        "colab_type": "text"
      },
      "source": [
        "в котором поле 6 строки {} будет настраиваться в зависимости от потребностей с помощью функции create_query():"
      ]
    },
    {
      "cell_type": "code",
      "metadata": {
        "id": "PsuVvPki0P8q",
        "colab_type": "code",
        "colab": {}
      },
      "source": [
        "def create_query(segment_feature, core_query = core_query):\n",
        "  return core_query.format(segment_feature)"
      ],
      "execution_count": 0,
      "outputs": []
    },
    {
      "cell_type": "markdown",
      "metadata": {
        "id": "S6DGOBhSs9go",
        "colab_type": "text"
      },
      "source": [
        "#1. Об оценивании статистической значимости"
      ]
    },
    {
      "cell_type": "markdown",
      "metadata": {
        "id": "3SmVzAu8tB1I",
        "colab_type": "text"
      },
      "source": [
        "Поскольку в имеющихся данных рассматривается две вариации, а также данные доступны по итогам проведения тестирования (не real-time), целесообразно проводить оценивание значимости изменений с помощью классической статистики, а именно проверки гипотезы о равенстве средних двух выборочных распределений."
      ]
    },
    {
      "cell_type": "markdown",
      "metadata": {
        "id": "pEBaFEof0flT",
        "colab_type": "text"
      },
      "source": [
        "Будем считать значимым абсолютное отклонение для короткой заявки в 3%, для полной заявки - 1%. Кроме того, положим уровень значимости равным 0.05, а ошибку второго рода - 0.2. Эти параметры могут быть выбраны произвольно, поэтому глобально по тексту будем придерживаться этих значений."
      ]
    },
    {
      "cell_type": "markdown",
      "metadata": {
        "id": "HIj9T3O7yRtd",
        "colab_type": "text"
      },
      "source": [
        "В списке параметров присутствует также величина delta_ste, когда определяет величину значимого отклонения конверсии частичной в полную заявку. Однако во-первых, данная величина коррелирована с двумя другими конверсиями, а во-вторых, объема данных как правило либо не хватает для оценивания изменения абсолютного отклонения на 5%, либо данных достаточно, и гипотеза выполняется. В дальнейшем величина этой конверсии для каждой из вариаций выводится в таблице, но стат. значимость не проверяется (при желании, это можно сделать, раскомментировав в функции variation_importance выполнение функции perform_stat_test - см. далее)."
      ]
    },
    {
      "cell_type": "code",
      "metadata": {
        "id": "ICWZuQ0Lx-Y1",
        "colab_type": "code",
        "colab": {}
      },
      "source": [
        "delta_short = 0.03\n",
        "delta_entire = 0.01\n",
        "#delta_ste = 0.05 #short to entire\n",
        "alpha = 0.05\n",
        "beta = 0.2"
      ],
      "execution_count": 0,
      "outputs": []
    },
    {
      "cell_type": "markdown",
      "metadata": {
        "id": "nHGfBPXj0a78",
        "colab_type": "text"
      },
      "source": [
        "Также введем еще несколько функций, предназначенных для оценивания влияния внесенных правок."
      ]
    },
    {
      "cell_type": "code",
      "metadata": {
        "id": "qFnbMRPKtzqI",
        "colab_type": "code",
        "colab": {}
      },
      "source": [
        "def perform_stat_test(a_c, n_c, a_t, n_t, delta,\n",
        "                      alpha = alpha, beta = beta):\n",
        "  '''\n",
        "  perform mean test for given success/total counts.\n",
        "  '''\n",
        "  #define basic characteristics\n",
        "  p_c = a_c/n_c\n",
        "  p_t = a_t/n_t\n",
        "  std_c = np.sqrt(p_c*(1-p_c))\n",
        "  std_t = np.sqrt(p_t*(1-p_t))\n",
        "\n",
        "  #define required numbers of observation.\n",
        "  n_required = np.ceil(2*p_c*(1-p_c)/delta**2 * (norm.ppf(1-alpha/2) + norm.ppf(1-beta))**2)\n",
        "\n",
        "  #perform stat test\n",
        "  Z, Pv = ttest(p_c,std_c,n_c,p_t,std_t,n_t, equal_var = False)\n",
        "  if min(n_c, n_t) < n_required:\n",
        "    print('Недостаточно данных для наблюдений. Требуемый объем выборки вариации: ', n_required)\n",
        "  if Pv < alpha:\n",
        "    print('Есть основания считать вариации различными. P-value: ',Pv)\n",
        "  else:\n",
        "    print('Нет оснований считать вариации различными. P-value: ',Pv)\n",
        "\n",
        "\n",
        "def variation_importance(query, conn = conn):\n",
        "  '''\n",
        "  return text fields and df with basic stats for given query.\n",
        "  '''\n",
        "  df = perform_query(conn, query)\n",
        "  #transform data fields\n",
        "  df = df.rename({0:\"control\",1:\"test\"})\n",
        "  df = df.assign(session_to_short = lambda x: x.short/x.sessions)\n",
        "  df = df.assign(session_to_entire = lambda x: x.entire/x.sessions)\n",
        "  df = df.assign(short_to_entire = lambda x: x.entire/x.short)\n",
        "\n",
        "\n",
        "  #perform tests for short and entire' submits\n",
        "  print('Конверсия сессий в короткую заявку по разным вариациям: ')\n",
        "  perform_stat_test(df['short']['control'], df['sessions']['control'],\n",
        "                    df['short']['test'],    df['sessions']['test'],\n",
        "                    delta = delta_short)\n",
        "  print('\\n')\n",
        "  #print('Конверсия коротких заявок по разным вариациям в полные: ')\n",
        "  #perform_stat_test(df['entire']['control'], df['short']['control'],\n",
        "  #                  df['entire']['test'],    df['short']['test'],\n",
        "  #                  delta = delta_ste)\n",
        "  print('\\n')\n",
        "  print('Конверсия сессий в полную заявку по разным вариациям: ')\n",
        "  perform_stat_test(df['entire']['control'], df['sessions']['control'],\n",
        "                    df['entire']['test'],    df['sessions']['test'],\n",
        "                    delta = delta_entire)\n",
        "  print('\\n') \n",
        "  #show pivot\n",
        "  return df[['sessions','short','session_to_short','entire','short_to_entire','session_to_entire']]"
      ],
      "execution_count": 0,
      "outputs": []
    },
    {
      "cell_type": "markdown",
      "metadata": {
        "id": "VA1RZ8v00rFO",
        "colab_type": "text"
      },
      "source": [
        "# 2. Оценивание значимости изменений на всей выборке"
      ]
    },
    {
      "cell_type": "markdown",
      "metadata": {
        "id": "Y3jq3-QE1YcF",
        "colab_type": "text"
      },
      "source": [
        "Теперь можно (наконец-то) начать проверять эффективность внесенных правок. Рассмотрим конверсию по всем данным с помощью описанных ранее функций:\n"
      ]
    },
    {
      "cell_type": "code",
      "metadata": {
        "id": "13zBw4AGy_o1",
        "colab_type": "code",
        "outputId": "10b2ed26-5fd6-4b0c-e629-cadc7e514ddb",
        "colab": {
          "base_uri": "https://localhost:8080/",
          "height": 281
        }
      },
      "source": [
        "segment_feature = ''\n",
        "variation_importance(create_query(segment_feature))"
      ],
      "execution_count": 8,
      "outputs": [
        {
          "output_type": "stream",
          "text": [
            "Конверсия сессий в короткую заявку по разным вариациям: \n",
            "Нет оснований считать вариации различными. P-value:  0.4350100977239145\n",
            "\n",
            "\n",
            "\n",
            "\n",
            "Конверсия сессий в полную заявку по разным вариациям: \n",
            "Нет оснований считать вариации различными. P-value:  0.3426980968943041\n",
            "\n",
            "\n"
          ],
          "name": "stdout"
        },
        {
          "output_type": "execute_result",
          "data": {
            "text/html": [
              "<div>\n",
              "<style scoped>\n",
              "    .dataframe tbody tr th:only-of-type {\n",
              "        vertical-align: middle;\n",
              "    }\n",
              "\n",
              "    .dataframe tbody tr th {\n",
              "        vertical-align: top;\n",
              "    }\n",
              "\n",
              "    .dataframe thead th {\n",
              "        text-align: right;\n",
              "    }\n",
              "</style>\n",
              "<table border=\"1\" class=\"dataframe\">\n",
              "  <thead>\n",
              "    <tr style=\"text-align: right;\">\n",
              "      <th></th>\n",
              "      <th>sessions</th>\n",
              "      <th>short</th>\n",
              "      <th>session_to_short</th>\n",
              "      <th>entire</th>\n",
              "      <th>short_to_entire</th>\n",
              "      <th>session_to_entire</th>\n",
              "    </tr>\n",
              "  </thead>\n",
              "  <tbody>\n",
              "    <tr>\n",
              "      <th>control</th>\n",
              "      <td>28448</td>\n",
              "      <td>5001</td>\n",
              "      <td>0.175794</td>\n",
              "      <td>2713</td>\n",
              "      <td>0.542492</td>\n",
              "      <td>0.095367</td>\n",
              "    </tr>\n",
              "    <tr>\n",
              "      <th>test</th>\n",
              "      <td>28532</td>\n",
              "      <td>5087</td>\n",
              "      <td>0.178291</td>\n",
              "      <td>2788</td>\n",
              "      <td>0.548064</td>\n",
              "      <td>0.097715</td>\n",
              "    </tr>\n",
              "  </tbody>\n",
              "</table>\n",
              "</div>"
            ],
            "text/plain": [
              "         sessions  short  ...  short_to_entire  session_to_entire\n",
              "control     28448   5001  ...         0.542492           0.095367\n",
              "test        28532   5087  ...         0.548064           0.097715\n",
              "\n",
              "[2 rows x 6 columns]"
            ]
          },
          "metadata": {
            "tags": []
          },
          "execution_count": 8
        }
      ]
    },
    {
      "cell_type": "markdown",
      "metadata": {
        "id": "ctDmNbFgzq2s",
        "colab_type": "text"
      },
      "source": [
        "В таблице: строки control и test соответствуют контрольной и тестовым вариациям соответственно; sessions - количество сессий в вариации, short - количество коротких заявкок (submit_short); session_to_short - конверсия сессий в короткие заявки; entire - количество полных заявок (submit); short_to_entire, session_to_entire - доля конверсий коротких заявок и сессий в полные заявки соответственно."
      ]
    },
    {
      "cell_type": "markdown",
      "metadata": {
        "id": "Lfyc52F7GYH2",
        "colab_type": "text"
      },
      "source": [
        "Данная форма будет типовой в рамках отчета. Были проверены гипотезы о равенстве средних для конверсий коротких и полной заявок, и общий тренд в сторону улучшения на данном объеме не замечен. Отклонения будут пологаться значимыми, если P-значение меньше заданного уровня значимости на достаточном объеме наблюдений (если это не так, это будет написано).\n",
        "\n",
        " Изучим отдельно распределение по сегментам.\n",
        " "
      ]
    },
    {
      "cell_type": "markdown",
      "metadata": {
        "id": "NCYInQKi3gHI",
        "colab_type": "text"
      },
      "source": [
        "# 2.1 Оценивание значимости для разных сегментов используемых устройств\n"
      ]
    },
    {
      "cell_type": "markdown",
      "metadata": {
        "id": "pmYg9mv_3sS4",
        "colab_type": "text"
      },
      "source": [
        "Посмотрим, какие сегменты наблюдаются в генеральной совокупности:"
      ]
    },
    {
      "cell_type": "code",
      "metadata": {
        "id": "WZUPCZYx3m5Z",
        "colab_type": "code",
        "outputId": "8faffbb4-619c-45d1-b96f-bcca8d160d0f",
        "colab": {
          "base_uri": "https://localhost:8080/",
          "height": 266
        }
      },
      "source": [
        "query = 'SELECT device_type, count(device_type) \\\n",
        "         FROM abtest  \\\n",
        "         GROUP BY device_type'\n",
        "perform_query(conn, query)"
      ],
      "execution_count": 9,
      "outputs": [
        {
          "output_type": "execute_result",
          "data": {
            "text/html": [
              "<div>\n",
              "<style scoped>\n",
              "    .dataframe tbody tr th:only-of-type {\n",
              "        vertical-align: middle;\n",
              "    }\n",
              "\n",
              "    .dataframe tbody tr th {\n",
              "        vertical-align: top;\n",
              "    }\n",
              "\n",
              "    .dataframe thead th {\n",
              "        text-align: right;\n",
              "    }\n",
              "</style>\n",
              "<table border=\"1\" class=\"dataframe\">\n",
              "  <thead>\n",
              "    <tr style=\"text-align: right;\">\n",
              "      <th></th>\n",
              "      <th>device_type</th>\n",
              "      <th>count</th>\n",
              "    </tr>\n",
              "  </thead>\n",
              "  <tbody>\n",
              "    <tr>\n",
              "      <th>0</th>\n",
              "      <td>HIGHEND_PHONE</td>\n",
              "      <td>45219</td>\n",
              "    </tr>\n",
              "    <tr>\n",
              "      <th>1</th>\n",
              "      <td>SET_TOP_BOX</td>\n",
              "      <td>4</td>\n",
              "    </tr>\n",
              "    <tr>\n",
              "      <th>2</th>\n",
              "      <td>TABLET</td>\n",
              "      <td>872</td>\n",
              "    </tr>\n",
              "    <tr>\n",
              "      <th>3</th>\n",
              "      <td>UNKNOWN</td>\n",
              "      <td>4</td>\n",
              "    </tr>\n",
              "    <tr>\n",
              "      <th>4</th>\n",
              "      <td>BOT</td>\n",
              "      <td>20</td>\n",
              "    </tr>\n",
              "    <tr>\n",
              "      <th>5</th>\n",
              "      <td>CONNECTED_TV</td>\n",
              "      <td>3</td>\n",
              "    </tr>\n",
              "    <tr>\n",
              "      <th>6</th>\n",
              "      <td>PERSONAL_COMPUTER</td>\n",
              "      <td>33878</td>\n",
              "    </tr>\n",
              "  </tbody>\n",
              "</table>\n",
              "</div>"
            ],
            "text/plain": [
              "         device_type  count\n",
              "0      HIGHEND_PHONE  45219\n",
              "1        SET_TOP_BOX      4\n",
              "2             TABLET    872\n",
              "3            UNKNOWN      4\n",
              "4                BOT     20\n",
              "5       CONNECTED_TV      3\n",
              "6  PERSONAL_COMPUTER  33878"
            ]
          },
          "metadata": {
            "tags": []
          },
          "execution_count": 9
        }
      ]
    },
    {
      "cell_type": "markdown",
      "metadata": {
        "id": "VC18O7iJ39b6",
        "colab_type": "text"
      },
      "source": [
        "Исходя из увиденного, целесообразно оценивать значимость изменений в сегментах мобильных устройств и ПК."
      ]
    },
    {
      "cell_type": "code",
      "metadata": {
        "id": "_dxTkFBYy_wr",
        "colab_type": "code",
        "outputId": "c7ae89ee-8281-4d47-f9ca-276a75f04eeb",
        "colab": {
          "base_uri": "https://localhost:8080/",
          "height": 298
        }
      },
      "source": [
        "segment_feature = ' WHERE device_type = \\'HIGHEND_PHONE\\' '\n",
        "variation_importance(create_query(segment_feature))"
      ],
      "execution_count": 10,
      "outputs": [
        {
          "output_type": "stream",
          "text": [
            "Конверсия сессий в короткую заявку по разным вариациям: \n",
            "Нет оснований считать вариации различными. P-value:  0.4787146422844515\n",
            "\n",
            "\n",
            "\n",
            "\n",
            "Конверсия сессий в полную заявку по разным вариациям: \n",
            "Недостаточно данных для наблюдений. Требуемый объем выборки вариации:  18510.0\n",
            "Нет оснований считать вариации различными. P-value:  0.2730173185372016\n",
            "\n",
            "\n"
          ],
          "name": "stdout"
        },
        {
          "output_type": "execute_result",
          "data": {
            "text/html": [
              "<div>\n",
              "<style scoped>\n",
              "    .dataframe tbody tr th:only-of-type {\n",
              "        vertical-align: middle;\n",
              "    }\n",
              "\n",
              "    .dataframe tbody tr th {\n",
              "        vertical-align: top;\n",
              "    }\n",
              "\n",
              "    .dataframe thead th {\n",
              "        text-align: right;\n",
              "    }\n",
              "</style>\n",
              "<table border=\"1\" class=\"dataframe\">\n",
              "  <thead>\n",
              "    <tr style=\"text-align: right;\">\n",
              "      <th></th>\n",
              "      <th>sessions</th>\n",
              "      <th>short</th>\n",
              "      <th>session_to_short</th>\n",
              "      <th>entire</th>\n",
              "      <th>short_to_entire</th>\n",
              "      <th>session_to_entire</th>\n",
              "    </tr>\n",
              "  </thead>\n",
              "  <tbody>\n",
              "    <tr>\n",
              "      <th>control</th>\n",
              "      <td>14499</td>\n",
              "      <td>3755</td>\n",
              "      <td>0.258983</td>\n",
              "      <td>1980</td>\n",
              "      <td>0.527297</td>\n",
              "      <td>0.136561</td>\n",
              "    </tr>\n",
              "    <tr>\n",
              "      <th>test</th>\n",
              "      <td>14438</td>\n",
              "      <td>3792</td>\n",
              "      <td>0.262640</td>\n",
              "      <td>2036</td>\n",
              "      <td>0.536920</td>\n",
              "      <td>0.141017</td>\n",
              "    </tr>\n",
              "  </tbody>\n",
              "</table>\n",
              "</div>"
            ],
            "text/plain": [
              "         sessions  short  ...  short_to_entire  session_to_entire\n",
              "control     14499   3755  ...         0.527297           0.136561\n",
              "test        14438   3792  ...         0.536920           0.141017\n",
              "\n",
              "[2 rows x 6 columns]"
            ]
          },
          "metadata": {
            "tags": []
          },
          "execution_count": 10
        }
      ]
    },
    {
      "cell_type": "code",
      "metadata": {
        "id": "dTxLEFmqy_zB",
        "colab_type": "code",
        "outputId": "921644a9-91d4-4f17-b157-f66f5af24753",
        "colab": {
          "base_uri": "https://localhost:8080/",
          "height": 281
        }
      },
      "source": [
        "segment_feature = ' WHERE device_type = \\'PERSONAL_COMPUTER\\' '\n",
        "variation_importance(create_query(segment_feature))"
      ],
      "execution_count": 11,
      "outputs": [
        {
          "output_type": "stream",
          "text": [
            "Конверсия сессий в короткую заявку по разным вариациям: \n",
            "Нет оснований считать вариации различными. P-value:  0.30705790258397303\n",
            "\n",
            "\n",
            "\n",
            "\n",
            "Конверсия сессий в полную заявку по разным вариациям: \n",
            "Нет оснований считать вариации различными. P-value:  0.48358927124270235\n",
            "\n",
            "\n"
          ],
          "name": "stdout"
        },
        {
          "output_type": "execute_result",
          "data": {
            "text/html": [
              "<div>\n",
              "<style scoped>\n",
              "    .dataframe tbody tr th:only-of-type {\n",
              "        vertical-align: middle;\n",
              "    }\n",
              "\n",
              "    .dataframe tbody tr th {\n",
              "        vertical-align: top;\n",
              "    }\n",
              "\n",
              "    .dataframe thead th {\n",
              "        text-align: right;\n",
              "    }\n",
              "</style>\n",
              "<table border=\"1\" class=\"dataframe\">\n",
              "  <thead>\n",
              "    <tr style=\"text-align: right;\">\n",
              "      <th></th>\n",
              "      <th>sessions</th>\n",
              "      <th>short</th>\n",
              "      <th>session_to_short</th>\n",
              "      <th>entire</th>\n",
              "      <th>short_to_entire</th>\n",
              "      <th>session_to_entire</th>\n",
              "    </tr>\n",
              "  </thead>\n",
              "  <tbody>\n",
              "    <tr>\n",
              "      <th>control</th>\n",
              "      <td>13765</td>\n",
              "      <td>1236</td>\n",
              "      <td>0.089793</td>\n",
              "      <td>724</td>\n",
              "      <td>0.585761</td>\n",
              "      <td>0.052597</td>\n",
              "    </tr>\n",
              "    <tr>\n",
              "      <th>test</th>\n",
              "      <td>13662</td>\n",
              "      <td>1179</td>\n",
              "      <td>0.086298</td>\n",
              "      <td>693</td>\n",
              "      <td>0.587786</td>\n",
              "      <td>0.050725</td>\n",
              "    </tr>\n",
              "  </tbody>\n",
              "</table>\n",
              "</div>"
            ],
            "text/plain": [
              "         sessions  short  ...  short_to_entire  session_to_entire\n",
              "control     13765   1236  ...         0.585761           0.052597\n",
              "test        13662   1179  ...         0.587786           0.050725\n",
              "\n",
              "[2 rows x 6 columns]"
            ]
          },
          "metadata": {
            "tags": []
          },
          "execution_count": 11
        }
      ]
    },
    {
      "cell_type": "markdown",
      "metadata": {
        "id": "nhWMZj9HHF3d",
        "colab_type": "text"
      },
      "source": [
        "Исходя из рассчитанного, можно сделать вывод о том, оснований для принятия соответствующих альтернатив на данном объеме нет."
      ]
    },
    {
      "cell_type": "markdown",
      "metadata": {
        "id": "6yqIQ8fXHg5s",
        "colab_type": "text"
      },
      "source": [
        "# 2.2 Оценивание значимости для разных сегментов пользователей"
      ]
    },
    {
      "cell_type": "markdown",
      "metadata": {
        "id": "tWUkqk08H4PS",
        "colab_type": "text"
      },
      "source": [
        "Покажем, какие виды пользователей встретились в выборочной совокупности."
      ]
    },
    {
      "cell_type": "code",
      "metadata": {
        "id": "iK-GArzkH09T",
        "colab_type": "code",
        "outputId": "e456633a-80fa-4bb3-ffc0-b1d5fbe0e174",
        "colab": {
          "base_uri": "https://localhost:8080/",
          "height": 514
        }
      },
      "source": [
        "query = 'SELECT user_type, count(user_type) \\\n",
        "FROM abtest \\\n",
        "GROUP BY user_type \\\n",
        "ORDER BY count(user_type) DESC '\n",
        "perform_query(conn, query)"
      ],
      "execution_count": 12,
      "outputs": [
        {
          "output_type": "execute_result",
          "data": {
            "text/html": [
              "<div>\n",
              "<style scoped>\n",
              "    .dataframe tbody tr th:only-of-type {\n",
              "        vertical-align: middle;\n",
              "    }\n",
              "\n",
              "    .dataframe tbody tr th {\n",
              "        vertical-align: top;\n",
              "    }\n",
              "\n",
              "    .dataframe thead th {\n",
              "        text-align: right;\n",
              "    }\n",
              "</style>\n",
              "<table border=\"1\" class=\"dataframe\">\n",
              "  <thead>\n",
              "    <tr style=\"text-align: right;\">\n",
              "      <th></th>\n",
              "      <th>user_type</th>\n",
              "      <th>count</th>\n",
              "    </tr>\n",
              "  </thead>\n",
              "  <tbody>\n",
              "    <tr>\n",
              "      <th>0</th>\n",
              "      <td>Visitor</td>\n",
              "      <td>57106</td>\n",
              "    </tr>\n",
              "    <tr>\n",
              "      <th>1</th>\n",
              "      <td>Client-Heavy</td>\n",
              "      <td>9866</td>\n",
              "    </tr>\n",
              "    <tr>\n",
              "      <th>2</th>\n",
              "      <td>Client-Light</td>\n",
              "      <td>3885</td>\n",
              "    </tr>\n",
              "    <tr>\n",
              "      <th>3</th>\n",
              "      <td>Applicant</td>\n",
              "      <td>1087</td>\n",
              "    </tr>\n",
              "    <tr>\n",
              "      <th>4</th>\n",
              "      <td>Applicant: Credit Cards;Tinkoff Platinum</td>\n",
              "      <td>29</td>\n",
              "    </tr>\n",
              "    <tr>\n",
              "      <th>5</th>\n",
              "      <td>Applicant: Loans;Cash Loan</td>\n",
              "      <td>21</td>\n",
              "    </tr>\n",
              "    <tr>\n",
              "      <th>6</th>\n",
              "      <td>Applicant: Debit Cards;Tinkoff Black</td>\n",
              "      <td>7</td>\n",
              "    </tr>\n",
              "    <tr>\n",
              "      <th>7</th>\n",
              "      <td>Applicant: Loans;Cash Loan Realty</td>\n",
              "      <td>5</td>\n",
              "    </tr>\n",
              "    <tr>\n",
              "      <th>8</th>\n",
              "      <td>Applicant: Credit Cards;Cash Loan</td>\n",
              "      <td>5</td>\n",
              "    </tr>\n",
              "    <tr>\n",
              "      <th>9</th>\n",
              "      <td>Applicant: Loans;Car Loan</td>\n",
              "      <td>3</td>\n",
              "    </tr>\n",
              "    <tr>\n",
              "      <th>10</th>\n",
              "      <td>Applicant: Credit Cards;Drive</td>\n",
              "      <td>2</td>\n",
              "    </tr>\n",
              "    <tr>\n",
              "      <th>11</th>\n",
              "      <td>Applicant: Debit Cards;Drive</td>\n",
              "      <td>1</td>\n",
              "    </tr>\n",
              "    <tr>\n",
              "      <th>12</th>\n",
              "      <td>Applicant: Credit Cards;Tinkoff All Airlines</td>\n",
              "      <td>1</td>\n",
              "    </tr>\n",
              "    <tr>\n",
              "      <th>13</th>\n",
              "      <td>Applicant: Loans;Mortgage</td>\n",
              "      <td>1</td>\n",
              "    </tr>\n",
              "    <tr>\n",
              "      <th>14</th>\n",
              "      <td>None</td>\n",
              "      <td>0</td>\n",
              "    </tr>\n",
              "  </tbody>\n",
              "</table>\n",
              "</div>"
            ],
            "text/plain": [
              "                                       user_type  count\n",
              "0                                        Visitor  57106\n",
              "1                                   Client-Heavy   9866\n",
              "2                                   Client-Light   3885\n",
              "3                                      Applicant   1087\n",
              "4       Applicant: Credit Cards;Tinkoff Platinum     29\n",
              "5                     Applicant: Loans;Cash Loan     21\n",
              "6           Applicant: Debit Cards;Tinkoff Black      7\n",
              "7              Applicant: Loans;Cash Loan Realty      5\n",
              "8              Applicant: Credit Cards;Cash Loan      5\n",
              "9                      Applicant: Loans;Car Loan      3\n",
              "10                 Applicant: Credit Cards;Drive      2\n",
              "11                  Applicant: Debit Cards;Drive      1\n",
              "12  Applicant: Credit Cards;Tinkoff All Airlines      1\n",
              "13                     Applicant: Loans;Mortgage      1\n",
              "14                                          None      0"
            ]
          },
          "metadata": {
            "tags": []
          },
          "execution_count": 12
        }
      ]
    },
    {
      "cell_type": "markdown",
      "metadata": {
        "id": "rHbWs31QIf6C",
        "colab_type": "text"
      },
      "source": [
        "Исходя из распределения, кажется целесообразным рассмотреть сегменты обычных посетителей, а также Light и Heavy клиентов."
      ]
    },
    {
      "cell_type": "code",
      "metadata": {
        "id": "ZH2b2FwzITcM",
        "colab_type": "code",
        "outputId": "8112d866-474e-4996-ecc2-95f090a4d57f",
        "colab": {
          "base_uri": "https://localhost:8080/",
          "height": 281
        }
      },
      "source": [
        "segment_feature = ' WHERE user_type = \\'Visitor\\' '\n",
        "variation_importance(create_query(segment_feature))"
      ],
      "execution_count": 13,
      "outputs": [
        {
          "output_type": "stream",
          "text": [
            "Конверсия сессий в короткую заявку по разным вариациям: \n",
            "Нет оснований считать вариации различными. P-value:  0.15296213041174883\n",
            "\n",
            "\n",
            "\n",
            "\n",
            "Конверсия сессий в полную заявку по разным вариациям: \n",
            "Нет оснований считать вариации различными. P-value:  0.36639978189030376\n",
            "\n",
            "\n"
          ],
          "name": "stdout"
        },
        {
          "output_type": "execute_result",
          "data": {
            "text/html": [
              "<div>\n",
              "<style scoped>\n",
              "    .dataframe tbody tr th:only-of-type {\n",
              "        vertical-align: middle;\n",
              "    }\n",
              "\n",
              "    .dataframe tbody tr th {\n",
              "        vertical-align: top;\n",
              "    }\n",
              "\n",
              "    .dataframe thead th {\n",
              "        text-align: right;\n",
              "    }\n",
              "</style>\n",
              "<table border=\"1\" class=\"dataframe\">\n",
              "  <thead>\n",
              "    <tr style=\"text-align: right;\">\n",
              "      <th></th>\n",
              "      <th>sessions</th>\n",
              "      <th>short</th>\n",
              "      <th>session_to_short</th>\n",
              "      <th>entire</th>\n",
              "      <th>short_to_entire</th>\n",
              "      <th>session_to_entire</th>\n",
              "    </tr>\n",
              "  </thead>\n",
              "  <tbody>\n",
              "    <tr>\n",
              "      <th>control</th>\n",
              "      <td>19787</td>\n",
              "      <td>3924</td>\n",
              "      <td>0.198312</td>\n",
              "      <td>2121</td>\n",
              "      <td>0.540520</td>\n",
              "      <td>0.107192</td>\n",
              "    </tr>\n",
              "    <tr>\n",
              "      <th>test</th>\n",
              "      <td>19797</td>\n",
              "      <td>4040</td>\n",
              "      <td>0.204071</td>\n",
              "      <td>2178</td>\n",
              "      <td>0.539109</td>\n",
              "      <td>0.110017</td>\n",
              "    </tr>\n",
              "  </tbody>\n",
              "</table>\n",
              "</div>"
            ],
            "text/plain": [
              "         sessions  short  ...  short_to_entire  session_to_entire\n",
              "control     19787   3924  ...         0.540520           0.107192\n",
              "test        19797   4040  ...         0.539109           0.110017\n",
              "\n",
              "[2 rows x 6 columns]"
            ]
          },
          "metadata": {
            "tags": []
          },
          "execution_count": 13
        }
      ]
    },
    {
      "cell_type": "code",
      "metadata": {
        "id": "zIekJ9ShIUZL",
        "colab_type": "code",
        "outputId": "9e88648a-5a3f-4280-bc57-c54f2ae21d06",
        "colab": {
          "base_uri": "https://localhost:8080/",
          "height": 298
        }
      },
      "source": [
        "segment_feature = ' WHERE user_type = \\'Client-Heavy\\' '\n",
        "variation_importance(create_query(segment_feature))"
      ],
      "execution_count": 14,
      "outputs": [
        {
          "output_type": "stream",
          "text": [
            "Конверсия сессий в короткую заявку по разным вариациям: \n",
            "Нет оснований считать вариации различными. P-value:  0.8059837791148893\n",
            "\n",
            "\n",
            "\n",
            "\n",
            "Конверсия сессий в полную заявку по разным вариациям: \n",
            "Недостаточно данных для наблюдений. Требуемый объем выборки вариации:  4647.0\n",
            "Нет оснований считать вариации различными. P-value:  0.22512979763458296\n",
            "\n",
            "\n"
          ],
          "name": "stdout"
        },
        {
          "output_type": "execute_result",
          "data": {
            "text/html": [
              "<div>\n",
              "<style scoped>\n",
              "    .dataframe tbody tr th:only-of-type {\n",
              "        vertical-align: middle;\n",
              "    }\n",
              "\n",
              "    .dataframe tbody tr th {\n",
              "        vertical-align: top;\n",
              "    }\n",
              "\n",
              "    .dataframe thead th {\n",
              "        text-align: right;\n",
              "    }\n",
              "</style>\n",
              "<table border=\"1\" class=\"dataframe\">\n",
              "  <thead>\n",
              "    <tr style=\"text-align: right;\">\n",
              "      <th></th>\n",
              "      <th>sessions</th>\n",
              "      <th>short</th>\n",
              "      <th>session_to_short</th>\n",
              "      <th>entire</th>\n",
              "      <th>short_to_entire</th>\n",
              "      <th>session_to_entire</th>\n",
              "    </tr>\n",
              "  </thead>\n",
              "  <tbody>\n",
              "    <tr>\n",
              "      <th>control</th>\n",
              "      <td>4160</td>\n",
              "      <td>228</td>\n",
              "      <td>0.054808</td>\n",
              "      <td>127</td>\n",
              "      <td>0.557018</td>\n",
              "      <td>0.030529</td>\n",
              "    </tr>\n",
              "    <tr>\n",
              "      <th>test</th>\n",
              "      <td>4050</td>\n",
              "      <td>217</td>\n",
              "      <td>0.053580</td>\n",
              "      <td>143</td>\n",
              "      <td>0.658986</td>\n",
              "      <td>0.035309</td>\n",
              "    </tr>\n",
              "  </tbody>\n",
              "</table>\n",
              "</div>"
            ],
            "text/plain": [
              "         sessions  short  ...  short_to_entire  session_to_entire\n",
              "control      4160    228  ...         0.557018           0.030529\n",
              "test         4050    217  ...         0.658986           0.035309\n",
              "\n",
              "[2 rows x 6 columns]"
            ]
          },
          "metadata": {
            "tags": []
          },
          "execution_count": 14
        }
      ]
    },
    {
      "cell_type": "code",
      "metadata": {
        "id": "KoyKeZaqIUzU",
        "colab_type": "code",
        "outputId": "678ac901-8434-4768-effd-26cd22a15916",
        "colab": {
          "base_uri": "https://localhost:8080/",
          "height": 315
        }
      },
      "source": [
        "segment_feature = ' WHERE user_type = \\'Client-Light\\' '\n",
        "variation_importance(create_query(segment_feature))"
      ],
      "execution_count": 15,
      "outputs": [
        {
          "output_type": "stream",
          "text": [
            "Конверсия сессий в короткую заявку по разным вариациям: \n",
            "Недостаточно данных для наблюдений. Требуемый объем выборки вариации:  3290.0\n",
            "Есть основания считать вариации различными. P-value:  0.029359322961688052\n",
            "\n",
            "\n",
            "\n",
            "\n",
            "Конверсия сессий в полную заявку по разным вариациям: \n",
            "Недостаточно данных для наблюдений. Требуемый объем выборки вариации:  19131.0\n",
            "Есть основания считать вариации различными. P-value:  0.037908925239833746\n",
            "\n",
            "\n"
          ],
          "name": "stdout"
        },
        {
          "output_type": "execute_result",
          "data": {
            "text/html": [
              "<div>\n",
              "<style scoped>\n",
              "    .dataframe tbody tr th:only-of-type {\n",
              "        vertical-align: middle;\n",
              "    }\n",
              "\n",
              "    .dataframe tbody tr th {\n",
              "        vertical-align: top;\n",
              "    }\n",
              "\n",
              "    .dataframe thead th {\n",
              "        text-align: right;\n",
              "    }\n",
              "</style>\n",
              "<table border=\"1\" class=\"dataframe\">\n",
              "  <thead>\n",
              "    <tr style=\"text-align: right;\">\n",
              "      <th></th>\n",
              "      <th>sessions</th>\n",
              "      <th>short</th>\n",
              "      <th>session_to_short</th>\n",
              "      <th>entire</th>\n",
              "      <th>short_to_entire</th>\n",
              "      <th>session_to_entire</th>\n",
              "    </tr>\n",
              "  </thead>\n",
              "  <tbody>\n",
              "    <tr>\n",
              "      <th>control</th>\n",
              "      <td>1225</td>\n",
              "      <td>309</td>\n",
              "      <td>0.252245</td>\n",
              "      <td>174</td>\n",
              "      <td>0.563107</td>\n",
              "      <td>0.142041</td>\n",
              "    </tr>\n",
              "    <tr>\n",
              "      <th>test</th>\n",
              "      <td>1186</td>\n",
              "      <td>346</td>\n",
              "      <td>0.291737</td>\n",
              "      <td>205</td>\n",
              "      <td>0.592486</td>\n",
              "      <td>0.172850</td>\n",
              "    </tr>\n",
              "  </tbody>\n",
              "</table>\n",
              "</div>"
            ],
            "text/plain": [
              "         sessions  short  ...  short_to_entire  session_to_entire\n",
              "control      1225    309  ...         0.563107           0.142041\n",
              "test         1186    346  ...         0.592486           0.172850\n",
              "\n",
              "[2 rows x 6 columns]"
            ]
          },
          "metadata": {
            "tags": []
          },
          "execution_count": 15
        }
      ]
    },
    {
      "cell_type": "markdown",
      "metadata": {
        "id": "8Au9oX9oIDyG",
        "colab_type": "text"
      },
      "source": [
        "В сегментах посетителей и Heavy клиентов значимых отклонений выявлено не было. Кроме того, для категории Heavy клиентов уже не хватает данных для принятия взшеннего решения (иначе говоря, ошибки 1го и 2го рода сейчас существенно выше заложенных)."
      ]
    },
    {
      "cell_type": "markdown",
      "metadata": {
        "id": "Fa_mqvdfI_kz",
        "colab_type": "text"
      },
      "source": [
        "Категория Light слиентов является крайне сложной с точки зрения принятия статистического решения (но выглядит позитивно). Статистика равенства средних показывает неоднородность выборочных совокупностей, в то же время их объем не позволяет сделать вывод об отклонении основной гипотезы при заданной мощности.\n",
        "Вообще говоря, можно используя минимальный объем вариации (1186 здесь) вычислить какую абсолютную разницу стоит рассматривать на подобном объеме выборки. Иначе говоря, если, скажем, рассматривать в качестве альтернативы гипотезу об отличии конверсии в тестовой вариации на 6%, то данная альтернатива может быть принята. Для подобных рассуждений требуется логическое обоснование с точки зрения продукта (а могло ли изменения привести к таким масштабам). Поскольку в данном задаче подобная задача не стоит, будем считать подобное отклонение незначимым на имеющемся объеме, а подобный сегмент - целесообразным для дальнейшего проведения тестирования. Кроме того, возможен анализ выборок другими методами - например, при наличии хронологии (вероятно, можно было бы положить, что записи делались в порядке записи в БД), с помощью \"бандитов\"."
      ]
    },
    {
      "cell_type": "markdown",
      "metadata": {
        "id": "bK-LQipGHWBq",
        "colab_type": "text"
      },
      "source": [
        "# 2.3 Оценивание значимости для разных сегментов трафика\n"
      ]
    },
    {
      "cell_type": "markdown",
      "metadata": {
        "id": "4hjF9Lx-Lsbu",
        "colab_type": "text"
      },
      "source": [
        "Для источников трафика выделить явным образом не представляется возможным из-за относительной произвольности заполнения поля. В то же время, можно выделить 3 ключевых источника, обеспечивающих около 80% записей в таблице: tinkoff, yandex, google. Поэтому рассмотрим именно эти сегменты."
      ]
    },
    {
      "cell_type": "code",
      "metadata": {
        "id": "12kJfhguMLHg",
        "colab_type": "code",
        "outputId": "457b0f7a-ac74-49f0-ef92-7a85b345c854",
        "colab": {
          "base_uri": "https://localhost:8080/",
          "height": 298
        }
      },
      "source": [
        "segment_feature = ' WHERE source LIKE \\'%tinkoff%\\' '\n",
        "variation_importance(create_query(segment_feature))"
      ],
      "execution_count": 16,
      "outputs": [
        {
          "output_type": "stream",
          "text": [
            "Конверсия сессий в короткую заявку по разным вариациям: \n",
            "Есть основания считать вариации различными. P-value:  0.02939590611233198\n",
            "\n",
            "\n",
            "\n",
            "\n",
            "Конверсия сессий в полную заявку по разным вариациям: \n",
            "Недостаточно данных для наблюдений. Требуемый объем выборки вариации:  14785.0\n",
            "Нет оснований считать вариации различными. P-value:  0.16856203122419244\n",
            "\n",
            "\n"
          ],
          "name": "stdout"
        },
        {
          "output_type": "execute_result",
          "data": {
            "text/html": [
              "<div>\n",
              "<style scoped>\n",
              "    .dataframe tbody tr th:only-of-type {\n",
              "        vertical-align: middle;\n",
              "    }\n",
              "\n",
              "    .dataframe tbody tr th {\n",
              "        vertical-align: top;\n",
              "    }\n",
              "\n",
              "    .dataframe thead th {\n",
              "        text-align: right;\n",
              "    }\n",
              "</style>\n",
              "<table border=\"1\" class=\"dataframe\">\n",
              "  <thead>\n",
              "    <tr style=\"text-align: right;\">\n",
              "      <th></th>\n",
              "      <th>sessions</th>\n",
              "      <th>short</th>\n",
              "      <th>session_to_short</th>\n",
              "      <th>entire</th>\n",
              "      <th>short_to_entire</th>\n",
              "      <th>session_to_entire</th>\n",
              "    </tr>\n",
              "  </thead>\n",
              "  <tbody>\n",
              "    <tr>\n",
              "      <th>control</th>\n",
              "      <td>2945</td>\n",
              "      <td>583</td>\n",
              "      <td>0.197963</td>\n",
              "      <td>310</td>\n",
              "      <td>0.531732</td>\n",
              "      <td>0.105263</td>\n",
              "    </tr>\n",
              "    <tr>\n",
              "      <th>test</th>\n",
              "      <td>2917</td>\n",
              "      <td>645</td>\n",
              "      <td>0.221118</td>\n",
              "      <td>340</td>\n",
              "      <td>0.527132</td>\n",
              "      <td>0.116558</td>\n",
              "    </tr>\n",
              "  </tbody>\n",
              "</table>\n",
              "</div>"
            ],
            "text/plain": [
              "         sessions  short  ...  short_to_entire  session_to_entire\n",
              "control      2945    583  ...         0.531732           0.105263\n",
              "test         2917    645  ...         0.527132           0.116558\n",
              "\n",
              "[2 rows x 6 columns]"
            ]
          },
          "metadata": {
            "tags": []
          },
          "execution_count": 16
        }
      ]
    },
    {
      "cell_type": "markdown",
      "metadata": {
        "id": "25g2FhVJp-iv",
        "colab_type": "text"
      },
      "source": [
        "Данные показывают довольно оптимистичную картину для канала Tinkoff. На имеющихся данных замечен значимый рост конверсии в неполную заявку на приблизительно 2,2%. В имеющихся данных также наблюдается рост конверсии в полную заявку, однако на данном объеме его можно считать в рамках статистического разброса. "
      ]
    },
    {
      "cell_type": "code",
      "metadata": {
        "id": "QlNWtn2pMLP8",
        "colab_type": "code",
        "outputId": "dcc6cc2e-2b7f-43ad-b271-93d1dc5c5215",
        "colab": {
          "base_uri": "https://localhost:8080/",
          "height": 298
        }
      },
      "source": [
        "segment_feature = ' WHERE source LIKE \\'%yandex%\\' '\n",
        "variation_importance(create_query(segment_feature))"
      ],
      "execution_count": 17,
      "outputs": [
        {
          "output_type": "stream",
          "text": [
            "Конверсия сессий в короткую заявку по разным вариациям: \n",
            "Нет оснований считать вариации различными. P-value:  0.7971650976982966\n",
            "\n",
            "\n",
            "\n",
            "\n",
            "Конверсия сессий в полную заявку по разным вариациям: \n",
            "Недостаточно данных для наблюдений. Требуемый объем выборки вариации:  15001.0\n",
            "Нет оснований считать вариации различными. P-value:  0.5532329007906513\n",
            "\n",
            "\n"
          ],
          "name": "stdout"
        },
        {
          "output_type": "execute_result",
          "data": {
            "text/html": [
              "<div>\n",
              "<style scoped>\n",
              "    .dataframe tbody tr th:only-of-type {\n",
              "        vertical-align: middle;\n",
              "    }\n",
              "\n",
              "    .dataframe tbody tr th {\n",
              "        vertical-align: top;\n",
              "    }\n",
              "\n",
              "    .dataframe thead th {\n",
              "        text-align: right;\n",
              "    }\n",
              "</style>\n",
              "<table border=\"1\" class=\"dataframe\">\n",
              "  <thead>\n",
              "    <tr style=\"text-align: right;\">\n",
              "      <th></th>\n",
              "      <th>sessions</th>\n",
              "      <th>short</th>\n",
              "      <th>session_to_short</th>\n",
              "      <th>entire</th>\n",
              "      <th>short_to_entire</th>\n",
              "      <th>session_to_entire</th>\n",
              "    </tr>\n",
              "  </thead>\n",
              "  <tbody>\n",
              "    <tr>\n",
              "      <th>control</th>\n",
              "      <td>8186</td>\n",
              "      <td>1552</td>\n",
              "      <td>0.189592</td>\n",
              "      <td>876</td>\n",
              "      <td>0.564433</td>\n",
              "      <td>0.107012</td>\n",
              "    </tr>\n",
              "    <tr>\n",
              "      <th>test</th>\n",
              "      <td>8318</td>\n",
              "      <td>1564</td>\n",
              "      <td>0.188026</td>\n",
              "      <td>914</td>\n",
              "      <td>0.584399</td>\n",
              "      <td>0.109882</td>\n",
              "    </tr>\n",
              "  </tbody>\n",
              "</table>\n",
              "</div>"
            ],
            "text/plain": [
              "         sessions  short  ...  short_to_entire  session_to_entire\n",
              "control      8186   1552  ...         0.564433           0.107012\n",
              "test         8318   1564  ...         0.584399           0.109882\n",
              "\n",
              "[2 rows x 6 columns]"
            ]
          },
          "metadata": {
            "tags": []
          },
          "execution_count": 17
        }
      ]
    },
    {
      "cell_type": "markdown",
      "metadata": {
        "id": "ZKLAz7Tyq-9L",
        "colab_type": "text"
      },
      "source": [
        "Для сегмента с канала Yandex конверсия в неполную заявку практически не изменилась. Для полных заявок сложно сделать какой-либо вывод относительно смещения конверсии в них сессий из-за недобора данных. "
      ]
    },
    {
      "cell_type": "code",
      "metadata": {
        "id": "jp8wCkWaanRD",
        "colab_type": "code",
        "outputId": "48d68c60-afbd-4ca2-c1ff-5c7c6344c39f",
        "colab": {
          "base_uri": "https://localhost:8080/",
          "height": 298
        }
      },
      "source": [
        "segment_feature = ' WHERE source LIKE \\'%google%\\' '\n",
        "variation_importance(create_query(segment_feature))"
      ],
      "execution_count": 18,
      "outputs": [
        {
          "output_type": "stream",
          "text": [
            "Конверсия сессий в короткую заявку по разным вариациям: \n",
            "Есть основания считать вариации различными. P-value:  0.02318022519241565\n",
            "\n",
            "\n",
            "\n",
            "\n",
            "Конверсия сессий в полную заявку по разным вариациям: \n",
            "Недостаточно данных для наблюдений. Требуемый объем выборки вариации:  11798.0\n",
            "Нет оснований считать вариации различными. P-value:  0.3004979086178898\n",
            "\n",
            "\n"
          ],
          "name": "stdout"
        },
        {
          "output_type": "execute_result",
          "data": {
            "text/html": [
              "<div>\n",
              "<style scoped>\n",
              "    .dataframe tbody tr th:only-of-type {\n",
              "        vertical-align: middle;\n",
              "    }\n",
              "\n",
              "    .dataframe tbody tr th {\n",
              "        vertical-align: top;\n",
              "    }\n",
              "\n",
              "    .dataframe thead th {\n",
              "        text-align: right;\n",
              "    }\n",
              "</style>\n",
              "<table border=\"1\" class=\"dataframe\">\n",
              "  <thead>\n",
              "    <tr style=\"text-align: right;\">\n",
              "      <th></th>\n",
              "      <th>sessions</th>\n",
              "      <th>short</th>\n",
              "      <th>session_to_short</th>\n",
              "      <th>entire</th>\n",
              "      <th>short_to_entire</th>\n",
              "      <th>session_to_entire</th>\n",
              "    </tr>\n",
              "  </thead>\n",
              "  <tbody>\n",
              "    <tr>\n",
              "      <th>control</th>\n",
              "      <td>11753</td>\n",
              "      <td>1759</td>\n",
              "      <td>0.149664</td>\n",
              "      <td>962</td>\n",
              "      <td>0.546902</td>\n",
              "      <td>0.081851</td>\n",
              "    </tr>\n",
              "    <tr>\n",
              "      <th>test</th>\n",
              "      <td>11678</td>\n",
              "      <td>1626</td>\n",
              "      <td>0.139236</td>\n",
              "      <td>913</td>\n",
              "      <td>0.561501</td>\n",
              "      <td>0.078181</td>\n",
              "    </tr>\n",
              "  </tbody>\n",
              "</table>\n",
              "</div>"
            ],
            "text/plain": [
              "         sessions  short  ...  short_to_entire  session_to_entire\n",
              "control     11753   1759  ...         0.546902           0.081851\n",
              "test        11678   1626  ...         0.561501           0.078181\n",
              "\n",
              "[2 rows x 6 columns]"
            ]
          },
          "metadata": {
            "tags": []
          },
          "execution_count": 18
        }
      ]
    },
    {
      "cell_type": "markdown",
      "metadata": {
        "id": "EziwzV62s2je",
        "colab_type": "text"
      },
      "source": [
        "В случае с трафиком Google, наблюдается статистически значимое (на уровне 0,05) падение конверсии в неполную заявку. Для анализа конверсии в полную заявку наблюдается минимальный недобор данных, однако, данные скорее говорят о том, что на полную конверсию изменение не повлияло."
      ]
    },
    {
      "cell_type": "markdown",
      "metadata": {
        "id": "Cbr-ANYa37Eo",
        "colab_type": "text"
      },
      "source": [
        "# 2.4 Оценивание значимости для различных каналов привлечения"
      ]
    },
    {
      "cell_type": "markdown",
      "metadata": {
        "id": "ca9bgYXO4DJN",
        "colab_type": "text"
      },
      "source": [
        "Для сегментации по полю medium достаточно сложно выделить несколько кластеров - наиболее численных является сегмент привлечения CONTEXT, сессий по которым существенно больше чем за следующими за ним AFFILAT, TARGET и MAILING."
      ]
    },
    {
      "cell_type": "code",
      "metadata": {
        "id": "NOY9JJnD4c__",
        "colab_type": "code",
        "colab": {
          "base_uri": "https://localhost:8080/",
          "height": 281
        },
        "outputId": "1c7afe38-3e04-4b49-ccda-fe2fa0a2bb13"
      },
      "source": [
        "segment_feature = ' WHERE medium LIKE \\'%ctx%\\' '\n",
        "variation_importance(create_query(segment_feature))"
      ],
      "execution_count": 19,
      "outputs": [
        {
          "output_type": "stream",
          "text": [
            "Конверсия сессий в короткую заявку по разным вариациям: \n",
            "Нет оснований считать вариации различными. P-value:  0.12596175126131773\n",
            "\n",
            "\n",
            "\n",
            "\n",
            "Конверсия сессий в полную заявку по разным вариациям: \n",
            "Есть основания считать вариации различными. P-value:  0.01723144492150098\n",
            "\n",
            "\n"
          ],
          "name": "stdout"
        },
        {
          "output_type": "execute_result",
          "data": {
            "text/html": [
              "<div>\n",
              "<style scoped>\n",
              "    .dataframe tbody tr th:only-of-type {\n",
              "        vertical-align: middle;\n",
              "    }\n",
              "\n",
              "    .dataframe tbody tr th {\n",
              "        vertical-align: top;\n",
              "    }\n",
              "\n",
              "    .dataframe thead th {\n",
              "        text-align: right;\n",
              "    }\n",
              "</style>\n",
              "<table border=\"1\" class=\"dataframe\">\n",
              "  <thead>\n",
              "    <tr style=\"text-align: right;\">\n",
              "      <th></th>\n",
              "      <th>sessions</th>\n",
              "      <th>short</th>\n",
              "      <th>session_to_short</th>\n",
              "      <th>entire</th>\n",
              "      <th>short_to_entire</th>\n",
              "      <th>session_to_entire</th>\n",
              "    </tr>\n",
              "  </thead>\n",
              "  <tbody>\n",
              "    <tr>\n",
              "      <th>control</th>\n",
              "      <td>11564</td>\n",
              "      <td>1054</td>\n",
              "      <td>0.091145</td>\n",
              "      <td>602</td>\n",
              "      <td>0.571157</td>\n",
              "      <td>0.052058</td>\n",
              "    </tr>\n",
              "    <tr>\n",
              "      <th>test</th>\n",
              "      <td>11691</td>\n",
              "      <td>999</td>\n",
              "      <td>0.085450</td>\n",
              "      <td>530</td>\n",
              "      <td>0.530531</td>\n",
              "      <td>0.045334</td>\n",
              "    </tr>\n",
              "  </tbody>\n",
              "</table>\n",
              "</div>"
            ],
            "text/plain": [
              "         sessions  short  ...  short_to_entire  session_to_entire\n",
              "control     11564   1054  ...         0.571157           0.052058\n",
              "test        11691    999  ...         0.530531           0.045334\n",
              "\n",
              "[2 rows x 6 columns]"
            ]
          },
          "metadata": {
            "tags": []
          },
          "execution_count": 19
        }
      ]
    },
    {
      "cell_type": "code",
      "metadata": {
        "id": "GHq-asg54g4R",
        "colab_type": "code",
        "colab": {
          "base_uri": "https://localhost:8080/",
          "height": 315
        },
        "outputId": "31e3e92d-6f4d-4431-b38f-4e3e6d37f04b"
      },
      "source": [
        "segment_feature = ' WHERE medium LIKE \\'%aft%\\' '\n",
        "variation_importance(create_query(segment_feature))"
      ],
      "execution_count": 20,
      "outputs": [
        {
          "output_type": "stream",
          "text": [
            "Конверсия сессий в короткую заявку по разным вариациям: \n",
            "Недостаточно данных для наблюдений. Требуемый объем выборки вариации:  2751.0\n",
            "Нет оснований считать вариации различными. P-value:  0.48522706040641683\n",
            "\n",
            "\n",
            "\n",
            "\n",
            "Конверсия сессий в полную заявку по разным вариациям: \n",
            "Недостаточно данных для наблюдений. Требуемый объем выборки вариации:  13989.0\n",
            "Нет оснований считать вариации различными. P-value:  0.9298146190304188\n",
            "\n",
            "\n"
          ],
          "name": "stdout"
        },
        {
          "output_type": "execute_result",
          "data": {
            "text/html": [
              "<div>\n",
              "<style scoped>\n",
              "    .dataframe tbody tr th:only-of-type {\n",
              "        vertical-align: middle;\n",
              "    }\n",
              "\n",
              "    .dataframe tbody tr th {\n",
              "        vertical-align: top;\n",
              "    }\n",
              "\n",
              "    .dataframe thead th {\n",
              "        text-align: right;\n",
              "    }\n",
              "</style>\n",
              "<table border=\"1\" class=\"dataframe\">\n",
              "  <thead>\n",
              "    <tr style=\"text-align: right;\">\n",
              "      <th></th>\n",
              "      <th>sessions</th>\n",
              "      <th>short</th>\n",
              "      <th>session_to_short</th>\n",
              "      <th>entire</th>\n",
              "      <th>short_to_entire</th>\n",
              "      <th>session_to_entire</th>\n",
              "    </tr>\n",
              "  </thead>\n",
              "  <tbody>\n",
              "    <tr>\n",
              "      <th>control</th>\n",
              "      <td>1891</td>\n",
              "      <td>371</td>\n",
              "      <td>0.196192</td>\n",
              "      <td>187</td>\n",
              "      <td>0.504043</td>\n",
              "      <td>0.098889</td>\n",
              "    </tr>\n",
              "    <tr>\n",
              "      <th>test</th>\n",
              "      <td>1826</td>\n",
              "      <td>375</td>\n",
              "      <td>0.205367</td>\n",
              "      <td>179</td>\n",
              "      <td>0.477333</td>\n",
              "      <td>0.098028</td>\n",
              "    </tr>\n",
              "  </tbody>\n",
              "</table>\n",
              "</div>"
            ],
            "text/plain": [
              "         sessions  short  ...  short_to_entire  session_to_entire\n",
              "control      1891    371  ...         0.504043           0.098889\n",
              "test         1826    375  ...         0.477333           0.098028\n",
              "\n",
              "[2 rows x 6 columns]"
            ]
          },
          "metadata": {
            "tags": []
          },
          "execution_count": 20
        }
      ]
    },
    {
      "cell_type": "code",
      "metadata": {
        "id": "4WjjstEz4g6p",
        "colab_type": "code",
        "colab": {
          "base_uri": "https://localhost:8080/",
          "height": 315
        },
        "outputId": "6f51d9a9-055e-47f6-ae18-c4f84889d0fc"
      },
      "source": [
        "segment_feature = ' WHERE medium LIKE \\'%trg%\\' '\n",
        "variation_importance(create_query(segment_feature))"
      ],
      "execution_count": 21,
      "outputs": [
        {
          "output_type": "stream",
          "text": [
            "Конверсия сессий в короткую заявку по разным вариациям: \n",
            "Недостаточно данных для наблюдений. Требуемый объем выборки вариации:  3335.0\n",
            "Нет оснований считать вариации различными. P-value:  0.6823005613172961\n",
            "\n",
            "\n",
            "\n",
            "\n",
            "Конверсия сессий в полную заявку по разным вариациям: \n",
            "Недостаточно данных для наблюдений. Требуемый объем выборки вариации:  17147.0\n",
            "Нет оснований считать вариации различными. P-value:  0.850155462530568\n",
            "\n",
            "\n"
          ],
          "name": "stdout"
        },
        {
          "output_type": "execute_result",
          "data": {
            "text/html": [
              "<div>\n",
              "<style scoped>\n",
              "    .dataframe tbody tr th:only-of-type {\n",
              "        vertical-align: middle;\n",
              "    }\n",
              "\n",
              "    .dataframe tbody tr th {\n",
              "        vertical-align: top;\n",
              "    }\n",
              "\n",
              "    .dataframe thead th {\n",
              "        text-align: right;\n",
              "    }\n",
              "</style>\n",
              "<table border=\"1\" class=\"dataframe\">\n",
              "  <thead>\n",
              "    <tr style=\"text-align: right;\">\n",
              "      <th></th>\n",
              "      <th>sessions</th>\n",
              "      <th>short</th>\n",
              "      <th>session_to_short</th>\n",
              "      <th>entire</th>\n",
              "      <th>short_to_entire</th>\n",
              "      <th>session_to_entire</th>\n",
              "    </tr>\n",
              "  </thead>\n",
              "  <tbody>\n",
              "    <tr>\n",
              "      <th>control</th>\n",
              "      <td>633</td>\n",
              "      <td>163</td>\n",
              "      <td>0.257504</td>\n",
              "      <td>79</td>\n",
              "      <td>0.484663</td>\n",
              "      <td>0.124803</td>\n",
              "    </tr>\n",
              "    <tr>\n",
              "      <th>test</th>\n",
              "      <td>639</td>\n",
              "      <td>171</td>\n",
              "      <td>0.267606</td>\n",
              "      <td>82</td>\n",
              "      <td>0.479532</td>\n",
              "      <td>0.128326</td>\n",
              "    </tr>\n",
              "  </tbody>\n",
              "</table>\n",
              "</div>"
            ],
            "text/plain": [
              "         sessions  short  ...  short_to_entire  session_to_entire\n",
              "control       633    163  ...         0.484663           0.124803\n",
              "test          639    171  ...         0.479532           0.128326\n",
              "\n",
              "[2 rows x 6 columns]"
            ]
          },
          "metadata": {
            "tags": []
          },
          "execution_count": 21
        }
      ]
    },
    {
      "cell_type": "code",
      "metadata": {
        "id": "Gf0pO1UB4g9j",
        "colab_type": "code",
        "colab": {
          "base_uri": "https://localhost:8080/",
          "height": 315
        },
        "outputId": "b4a18adf-6c7a-4078-ce62-493c5175caac"
      },
      "source": [
        "segment_feature = ' WHERE medium LIKE \\'%mln%\\' '\n",
        "variation_importance(create_query(segment_feature))"
      ],
      "execution_count": 22,
      "outputs": [
        {
          "output_type": "stream",
          "text": [
            "Конверсия сессий в короткую заявку по разным вариациям: \n",
            "Недостаточно данных для наблюдений. Требуемый объем выборки вариации:  2410.0\n",
            "Нет оснований считать вариации различными. P-value:  0.2555639585596363\n",
            "\n",
            "\n",
            "\n",
            "\n",
            "Конверсия сессий в полную заявку по разным вариациям: \n",
            "Недостаточно данных для наблюдений. Требуемый объем выборки вариации:  14214.0\n",
            "Нет оснований считать вариации различными. P-value:  0.9425875833942192\n",
            "\n",
            "\n"
          ],
          "name": "stdout"
        },
        {
          "output_type": "execute_result",
          "data": {
            "text/html": [
              "<div>\n",
              "<style scoped>\n",
              "    .dataframe tbody tr th:only-of-type {\n",
              "        vertical-align: middle;\n",
              "    }\n",
              "\n",
              "    .dataframe tbody tr th {\n",
              "        vertical-align: top;\n",
              "    }\n",
              "\n",
              "    .dataframe thead th {\n",
              "        text-align: right;\n",
              "    }\n",
              "</style>\n",
              "<table border=\"1\" class=\"dataframe\">\n",
              "  <thead>\n",
              "    <tr style=\"text-align: right;\">\n",
              "      <th></th>\n",
              "      <th>sessions</th>\n",
              "      <th>short</th>\n",
              "      <th>session_to_short</th>\n",
              "      <th>entire</th>\n",
              "      <th>short_to_entire</th>\n",
              "      <th>session_to_entire</th>\n",
              "    </tr>\n",
              "  </thead>\n",
              "  <tbody>\n",
              "    <tr>\n",
              "      <th>control</th>\n",
              "      <td>586</td>\n",
              "      <td>97</td>\n",
              "      <td>0.165529</td>\n",
              "      <td>59</td>\n",
              "      <td>0.608247</td>\n",
              "      <td>0.100683</td>\n",
              "    </tr>\n",
              "    <tr>\n",
              "      <th>test</th>\n",
              "      <td>559</td>\n",
              "      <td>79</td>\n",
              "      <td>0.141324</td>\n",
              "      <td>57</td>\n",
              "      <td>0.721519</td>\n",
              "      <td>0.101968</td>\n",
              "    </tr>\n",
              "  </tbody>\n",
              "</table>\n",
              "</div>"
            ],
            "text/plain": [
              "         sessions  short  ...  short_to_entire  session_to_entire\n",
              "control       586     97  ...         0.608247           0.100683\n",
              "test          559     79  ...         0.721519           0.101968\n",
              "\n",
              "[2 rows x 6 columns]"
            ]
          },
          "metadata": {
            "tags": []
          },
          "execution_count": 22
        }
      ]
    },
    {
      "cell_type": "markdown",
      "metadata": {
        "id": "dEnLbi8J4-Q5",
        "colab_type": "text"
      },
      "source": [
        "Исходя из полученного, можно сразу выбросить каналы AFFILAT, TARGET и MAILING из рассмотрения - данных по ним объективно мало для принятия взвешенного решения."
      ]
    },
    {
      "cell_type": "markdown",
      "metadata": {
        "id": "fVVNQcRC51CR",
        "colab_type": "text"
      },
      "source": [
        "По каналу CONTEXT отмечается негативная тенденция в количестве конверсий сессий в полные заявки. Для конверсии в частичную заявку также наблюдается падение, однако оно может являться лишь результатом стастического разброса."
      ]
    },
    {
      "cell_type": "markdown",
      "metadata": {
        "id": "O40iKvQFMaHF",
        "colab_type": "text"
      },
      "source": [
        "# 3. Выводы"
      ]
    },
    {
      "cell_type": "markdown",
      "metadata": {
        "id": "dXEFC3RZMeb2",
        "colab_type": "text"
      },
      "source": [
        "В рамках работы проведен анализ эффективности изменений в продукте путем сравнения долей конверсий в вариациях методами математической статистики. Исходя из результатов работы, можно сделать следующие выводы:\n",
        "1. Явного преобладания у новой вариации относительно тестовой не наблюдается;\n",
        "2. Сегмент клиентов, пришедших через Google, воспринял изменения негативно (на уровне значимости 0,05) на этапе короткой заявки, однако на итоговой заявке это не сказалось (вообще говоря, количества наблюдений недостаточно, но объем выборки немногим отличается от требуемого). По необходимости имеет смысл недолго продлить тест (не хватает порядка 250 сессий) для полноценного анализа итоговой конверсии в полную заявку;\n",
        "3. Для клиентов, пришел с Tinkoff, замечен значимый (на уровне значимости 0,05) рост конверсии в короткую заявку. В связи с существенным недобором статистических данных, оценить значимость роста конверсии в полную заявку не представляется возможным - целесообразно по мере возможности продлить тестирование;\n",
        "4. Канал привлечения CONTEXT отреагировал на изменение отрицательно (при уровне значимости 0,05) - наблюдается сокращение доли конверсий сессий в полные заявки. Оснований же для принятия вывода о сокращении числа конверсий в короткие заявки на основании имеющихся данных нет;\n",
        "5. У сегмента пользователей Light -Clients целесообразно продолжение тестирования, поскольку имеющийся объем не позволяет сделать обоснованного вывода об эффективности сделанных изменений."
      ]
    }
  ]
}